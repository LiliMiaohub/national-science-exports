{
  "cells": [
    {
      "cell_type": "code",
      "source": [
        "from itertools import islice\n",
        "import pandas as pd\n",
        "import numpy as np\n",
        "import sys\n",
        "import os"
      ],
      "outputs": [],
      "execution_count": 35,
      "metadata": {
        "collapsed": true,
        "jupyter": {
          "source_hidden": false,
          "outputs_hidden": false
        },
        "nteract": {
          "transient": {
            "deleting": false
          }
        },
        "execution": {
          "iopub.status.busy": "2020-12-22T22:12:21.967Z",
          "iopub.execute_input": "2020-12-22T22:12:21.973Z",
          "iopub.status.idle": "2020-12-22T22:12:21.981Z",
          "shell.execute_reply": "2020-12-22T22:12:21.987Z"
        }
      }
    },
    {
      "cell_type": "code",
      "source": [
        "DATA_DIR = \"../nsp/Data/Additional_data/\"\n",
        "INCOME_FILE = os.path.join(DATA_DIR, \"GDP_PPP_CI.csv\")\n",
        "INTERVAL_FILE = os.path.join(DATA_DIR, \"year_intervals.txt\")\n",
        "CNTRY_YEAR_INCOMEVALUE = \"test.csv\""
      ],
      "outputs": [],
      "execution_count": 36,
      "metadata": {
        "collapsed": true,
        "jupyter": {
          "source_hidden": false,
          "outputs_hidden": false
        },
        "nteract": {
          "transient": {
            "deleting": false
          }
        },
        "tags": [
          "parameters"
        ],
        "execution": {
          "iopub.status.busy": "2020-12-22T22:12:22.454Z",
          "iopub.execute_input": "2020-12-22T22:12:22.460Z",
          "iopub.status.idle": "2020-12-22T22:12:22.468Z",
          "shell.execute_reply": "2020-12-22T22:12:22.473Z"
        }
      }
    },
    {
      "cell_type": "code",
      "source": [
        "def cal_avg(df, periods):\n",
        "    \"\"\"calculate the average value during period for the data\n",
        "    i.e. calculate average income between 13-17\" \"\"\"\n",
        "    for start, end in periods:\n",
        "        df[f\"{start}-{end}\"] = df[[str(ind) for ind in range(start, end + 1)]].mean(axis=1)\n",
        "    return df"
      ],
      "outputs": [],
      "execution_count": 37,
      "metadata": {
        "collapsed": true,
        "jupyter": {
          "source_hidden": false,
          "outputs_hidden": false
        },
        "nteract": {
          "transient": {
            "deleting": false
          }
        },
        "execution": {
          "iopub.status.busy": "2020-12-22T22:12:22.988Z",
          "iopub.execute_input": "2020-12-22T22:12:22.994Z",
          "iopub.status.idle": "2020-12-22T22:12:23.003Z",
          "shell.execute_reply": "2020-12-22T22:12:23.009Z"
        }
      }
    },
    {
      "cell_type": "code",
      "source": [
        "income_df = pd.read_csv(INCOME_FILE, encoding=\"ISO-8859-1\")\n",
        "periods = [\n",
        "    tuple(map(int, x.strip(\"\\n\").split(\"-\")))\n",
        "    for x in islice(open(INTERVAL_FILE), 0, None)\n",
        "]\n",
        "income_df = cal_avg(income_df, periods)\n",
        "income_df = income_df[\n",
        "    [\"Country Code\"] + [f\"{start}-{end}\" for start, end in periods]\n",
        "]\n",
        "\n",
        "income_df.melt(\n",
        "    id_vars=[\"Country Code\"], var_name=\"Year\", value_name=\"Income\"\n",
        ").rename(columns={\"Country Code\": \"Code\"}).to_csv(\n",
        "    CNTRY_YEAR_INCOMEVALUE, index=False\n",
        ")\n"
      ],
      "outputs": [],
      "execution_count": null,
      "metadata": {
        "collapsed": true,
        "jupyter": {
          "source_hidden": false,
          "outputs_hidden": false
        },
        "nteract": {
          "transient": {
            "deleting": false
          }
        }
      }
    },
    {
      "cell_type": "markdown",
      "source": [
        "# Explanation"
      ],
      "metadata": {
        "nteract": {
          "transient": {
            "deleting": false
          }
        }
      }
    },
    {
      "cell_type": "code",
      "source": [
        "income_df = pd.read_csv(INCOME_FILE, encoding=\"ISO-8859-1\")\n",
        "income_df.head()"
      ],
      "outputs": [
        {
          "output_type": "execute_result",
          "execution_count": 38,
          "data": {
            "text/plain": "  Country Name Country Code                                 Indicator Name  \\\n0        Aruba          ABW  GDP per capita, PPP (current international $)   \n1  Afghanistan          AFG  GDP per capita, PPP (current international $)   \n2       Angola          AGO  GDP per capita, PPP (current international $)   \n3      Albania          ALB  GDP per capita, PPP (current international $)   \n4      Andorra          AND  GDP per capita, PPP (current international $)   \n\n      Indicator Code  1960  1961  1962  1963  1964  1965  ...          2009  \\\n0  NY.GDP.PCAP.PP.CD   NaN   NaN   NaN   NaN   NaN   NaN  ...  34682.790120   \n1  NY.GDP.PCAP.PP.CD   NaN   NaN   NaN   NaN   NaN   NaN  ...   1474.479477   \n2  NY.GDP.PCAP.PP.CD   NaN   NaN   NaN   NaN   NaN   NaN  ...   6081.329190   \n3  NY.GDP.PCAP.PP.CD   NaN   NaN   NaN   NaN   NaN   NaN  ...   8814.847160   \n4  NY.GDP.PCAP.PP.CD   NaN   NaN   NaN   NaN   NaN   NaN  ...           NaN   \n\n           2010          2011          2012          2013          2014  \\\n0  33740.870890  35490.183980  35466.702230  37330.518250  38098.326590   \n1   1659.507551   1649.150373   1832.734639   1902.508410   1927.087320   \n2   6228.342912   6346.944372   6770.668417   6970.313604   7182.827798   \n3   9627.937290  10207.718890  10526.280130  10571.003650  11259.279720   \n4           NaN           NaN           NaN           NaN           NaN   \n\n           2015          2016          2017  2018  \n0  38137.333580  38365.446050  39409.227530   NaN  \n1   1918.938459   1934.616840   1972.178018   NaN  \n2   7082.241175   6756.144137   6643.754972   NaN  \n3  11661.981180  11890.500390  12943.460710   NaN  \n4           NaN           NaN           NaN   NaN  \n\n[5 rows x 63 columns]",
            "text/html": "<div>\n<style scoped>\n    .dataframe tbody tr th:only-of-type {\n        vertical-align: middle;\n    }\n\n    .dataframe tbody tr th {\n        vertical-align: top;\n    }\n\n    .dataframe thead th {\n        text-align: right;\n    }\n</style>\n<table border=\"1\" class=\"dataframe\">\n  <thead>\n    <tr style=\"text-align: right;\">\n      <th></th>\n      <th>Country Name</th>\n      <th>Country Code</th>\n      <th>Indicator Name</th>\n      <th>Indicator Code</th>\n      <th>1960</th>\n      <th>1961</th>\n      <th>1962</th>\n      <th>1963</th>\n      <th>1964</th>\n      <th>1965</th>\n      <th>...</th>\n      <th>2009</th>\n      <th>2010</th>\n      <th>2011</th>\n      <th>2012</th>\n      <th>2013</th>\n      <th>2014</th>\n      <th>2015</th>\n      <th>2016</th>\n      <th>2017</th>\n      <th>2018</th>\n    </tr>\n  </thead>\n  <tbody>\n    <tr>\n      <th>0</th>\n      <td>Aruba</td>\n      <td>ABW</td>\n      <td>GDP per capita, PPP (current international $)</td>\n      <td>NY.GDP.PCAP.PP.CD</td>\n      <td>NaN</td>\n      <td>NaN</td>\n      <td>NaN</td>\n      <td>NaN</td>\n      <td>NaN</td>\n      <td>NaN</td>\n      <td>...</td>\n      <td>34682.790120</td>\n      <td>33740.870890</td>\n      <td>35490.183980</td>\n      <td>35466.702230</td>\n      <td>37330.518250</td>\n      <td>38098.326590</td>\n      <td>38137.333580</td>\n      <td>38365.446050</td>\n      <td>39409.227530</td>\n      <td>NaN</td>\n    </tr>\n    <tr>\n      <th>1</th>\n      <td>Afghanistan</td>\n      <td>AFG</td>\n      <td>GDP per capita, PPP (current international $)</td>\n      <td>NY.GDP.PCAP.PP.CD</td>\n      <td>NaN</td>\n      <td>NaN</td>\n      <td>NaN</td>\n      <td>NaN</td>\n      <td>NaN</td>\n      <td>NaN</td>\n      <td>...</td>\n      <td>1474.479477</td>\n      <td>1659.507551</td>\n      <td>1649.150373</td>\n      <td>1832.734639</td>\n      <td>1902.508410</td>\n      <td>1927.087320</td>\n      <td>1918.938459</td>\n      <td>1934.616840</td>\n      <td>1972.178018</td>\n      <td>NaN</td>\n    </tr>\n    <tr>\n      <th>2</th>\n      <td>Angola</td>\n      <td>AGO</td>\n      <td>GDP per capita, PPP (current international $)</td>\n      <td>NY.GDP.PCAP.PP.CD</td>\n      <td>NaN</td>\n      <td>NaN</td>\n      <td>NaN</td>\n      <td>NaN</td>\n      <td>NaN</td>\n      <td>NaN</td>\n      <td>...</td>\n      <td>6081.329190</td>\n      <td>6228.342912</td>\n      <td>6346.944372</td>\n      <td>6770.668417</td>\n      <td>6970.313604</td>\n      <td>7182.827798</td>\n      <td>7082.241175</td>\n      <td>6756.144137</td>\n      <td>6643.754972</td>\n      <td>NaN</td>\n    </tr>\n    <tr>\n      <th>3</th>\n      <td>Albania</td>\n      <td>ALB</td>\n      <td>GDP per capita, PPP (current international $)</td>\n      <td>NY.GDP.PCAP.PP.CD</td>\n      <td>NaN</td>\n      <td>NaN</td>\n      <td>NaN</td>\n      <td>NaN</td>\n      <td>NaN</td>\n      <td>NaN</td>\n      <td>...</td>\n      <td>8814.847160</td>\n      <td>9627.937290</td>\n      <td>10207.718890</td>\n      <td>10526.280130</td>\n      <td>10571.003650</td>\n      <td>11259.279720</td>\n      <td>11661.981180</td>\n      <td>11890.500390</td>\n      <td>12943.460710</td>\n      <td>NaN</td>\n    </tr>\n    <tr>\n      <th>4</th>\n      <td>Andorra</td>\n      <td>AND</td>\n      <td>GDP per capita, PPP (current international $)</td>\n      <td>NY.GDP.PCAP.PP.CD</td>\n      <td>NaN</td>\n      <td>NaN</td>\n      <td>NaN</td>\n      <td>NaN</td>\n      <td>NaN</td>\n      <td>NaN</td>\n      <td>...</td>\n      <td>NaN</td>\n      <td>NaN</td>\n      <td>NaN</td>\n      <td>NaN</td>\n      <td>NaN</td>\n      <td>NaN</td>\n      <td>NaN</td>\n      <td>NaN</td>\n      <td>NaN</td>\n      <td>NaN</td>\n    </tr>\n  </tbody>\n</table>\n<p>5 rows × 63 columns</p>\n</div>"
          },
          "metadata": {}
        }
      ],
      "execution_count": 38,
      "metadata": {
        "collapsed": true,
        "jupyter": {
          "source_hidden": false,
          "outputs_hidden": false
        },
        "nteract": {
          "transient": {
            "deleting": false
          }
        },
        "execution": {
          "iopub.status.busy": "2020-12-22T22:12:23.737Z",
          "iopub.execute_input": "2020-12-22T22:12:23.741Z",
          "iopub.status.idle": "2020-12-22T22:12:23.753Z",
          "shell.execute_reply": "2020-12-22T22:12:23.757Z"
        }
      }
    },
    {
      "cell_type": "code",
      "source": [
        "periods = [\n",
        "    tuple(map(int, x.strip(\"\\n\").split(\"-\")))\n",
        "    for x in islice(open(INTERVAL_FILE), 0, None)\n",
        "]\n",
        "periods"
      ],
      "outputs": [
        {
          "output_type": "execute_result",
          "execution_count": 39,
          "data": {
            "text/plain": "[(1973, 1977),\n (1978, 1982),\n (1983, 1987),\n (1988, 1992),\n (1993, 1997),\n (1998, 2002),\n (2003, 2007),\n (2008, 2012),\n (2013, 2017)]"
          },
          "metadata": {}
        }
      ],
      "execution_count": 39,
      "metadata": {
        "collapsed": true,
        "jupyter": {
          "source_hidden": false,
          "outputs_hidden": false
        },
        "nteract": {
          "transient": {
            "deleting": false
          }
        },
        "execution": {
          "iopub.status.busy": "2020-12-22T22:12:24.879Z",
          "iopub.execute_input": "2020-12-22T22:12:24.883Z",
          "iopub.status.idle": "2020-12-22T22:12:24.894Z",
          "shell.execute_reply": "2020-12-22T22:12:24.899Z"
        }
      }
    },
    {
      "cell_type": "code",
      "source": [
        "income_df[[str(ind) for ind in range(2003, 2007 + 1)]]"
      ],
      "outputs": [
        {
          "output_type": "execute_result",
          "execution_count": 40,
          "data": {
            "text/plain": "             2003          2004          2005          2006          2007\n0    31318.036750  34120.162000  35184.582710  36355.438330  37849.233480\n1      909.862558    906.664470   1001.410407   1052.924482   1196.963863\n2     3590.407916   3949.493773   4524.519253   5019.808921   5669.653527\n3     4994.524066   5422.770252   5865.310504   6559.777896   7276.307768\n4             NaN           NaN           NaN           NaN           NaN\n..            ...           ...           ...           ...           ...\n259   5179.441965   5457.172635   5968.547735   6377.509786   6968.076576\n260   3360.668430   3490.716252   3699.915248   3827.095212   3949.783998\n261   8426.921175   8940.667930   9601.265895  10335.640240  11062.378690\n262   1916.105741   2051.607433   2210.472268   2392.690039   2589.897156\n263   1784.308986   1707.489061   1640.904873   1609.852525   1567.752858\n\n[264 rows x 5 columns]",
            "text/html": "<div>\n<style scoped>\n    .dataframe tbody tr th:only-of-type {\n        vertical-align: middle;\n    }\n\n    .dataframe tbody tr th {\n        vertical-align: top;\n    }\n\n    .dataframe thead th {\n        text-align: right;\n    }\n</style>\n<table border=\"1\" class=\"dataframe\">\n  <thead>\n    <tr style=\"text-align: right;\">\n      <th></th>\n      <th>2003</th>\n      <th>2004</th>\n      <th>2005</th>\n      <th>2006</th>\n      <th>2007</th>\n    </tr>\n  </thead>\n  <tbody>\n    <tr>\n      <th>0</th>\n      <td>31318.036750</td>\n      <td>34120.162000</td>\n      <td>35184.582710</td>\n      <td>36355.438330</td>\n      <td>37849.233480</td>\n    </tr>\n    <tr>\n      <th>1</th>\n      <td>909.862558</td>\n      <td>906.664470</td>\n      <td>1001.410407</td>\n      <td>1052.924482</td>\n      <td>1196.963863</td>\n    </tr>\n    <tr>\n      <th>2</th>\n      <td>3590.407916</td>\n      <td>3949.493773</td>\n      <td>4524.519253</td>\n      <td>5019.808921</td>\n      <td>5669.653527</td>\n    </tr>\n    <tr>\n      <th>3</th>\n      <td>4994.524066</td>\n      <td>5422.770252</td>\n      <td>5865.310504</td>\n      <td>6559.777896</td>\n      <td>7276.307768</td>\n    </tr>\n    <tr>\n      <th>4</th>\n      <td>NaN</td>\n      <td>NaN</td>\n      <td>NaN</td>\n      <td>NaN</td>\n      <td>NaN</td>\n    </tr>\n    <tr>\n      <th>...</th>\n      <td>...</td>\n      <td>...</td>\n      <td>...</td>\n      <td>...</td>\n      <td>...</td>\n    </tr>\n    <tr>\n      <th>259</th>\n      <td>5179.441965</td>\n      <td>5457.172635</td>\n      <td>5968.547735</td>\n      <td>6377.509786</td>\n      <td>6968.076576</td>\n    </tr>\n    <tr>\n      <th>260</th>\n      <td>3360.668430</td>\n      <td>3490.716252</td>\n      <td>3699.915248</td>\n      <td>3827.095212</td>\n      <td>3949.783998</td>\n    </tr>\n    <tr>\n      <th>261</th>\n      <td>8426.921175</td>\n      <td>8940.667930</td>\n      <td>9601.265895</td>\n      <td>10335.640240</td>\n      <td>11062.378690</td>\n    </tr>\n    <tr>\n      <th>262</th>\n      <td>1916.105741</td>\n      <td>2051.607433</td>\n      <td>2210.472268</td>\n      <td>2392.690039</td>\n      <td>2589.897156</td>\n    </tr>\n    <tr>\n      <th>263</th>\n      <td>1784.308986</td>\n      <td>1707.489061</td>\n      <td>1640.904873</td>\n      <td>1609.852525</td>\n      <td>1567.752858</td>\n    </tr>\n  </tbody>\n</table>\n<p>264 rows × 5 columns</p>\n</div>"
          },
          "metadata": {}
        }
      ],
      "execution_count": 40,
      "metadata": {
        "collapsed": true,
        "jupyter": {
          "source_hidden": false,
          "outputs_hidden": false
        },
        "nteract": {
          "transient": {
            "deleting": false
          }
        },
        "execution": {
          "iopub.status.busy": "2020-12-22T22:12:25.687Z",
          "iopub.execute_input": "2020-12-22T22:12:25.691Z",
          "iopub.status.idle": "2020-12-22T22:12:25.703Z",
          "shell.execute_reply": "2020-12-22T22:12:25.708Z"
        }
      }
    },
    {
      "cell_type": "code",
      "source": [
        "income_df[[str(ind) for ind in range(2003, 2007 + 1)]].mean(axis=1)\n"
      ],
      "outputs": [
        {
          "output_type": "execute_result",
          "execution_count": 41,
          "data": {
            "text/plain": "0      34965.490654\n1       1013.565156\n2       4550.776678\n3       6023.738097\n4               NaN\n           ...     \n259     5990.149739\n260     3665.635828\n261     9673.374786\n262     2232.154527\n263     1662.061661\nLength: 264, dtype: float64"
          },
          "metadata": {}
        }
      ],
      "execution_count": 41,
      "metadata": {
        "collapsed": true,
        "jupyter": {
          "source_hidden": false,
          "outputs_hidden": false
        },
        "nteract": {
          "transient": {
            "deleting": false
          }
        },
        "execution": {
          "iopub.status.busy": "2020-12-22T22:12:26.526Z",
          "iopub.execute_input": "2020-12-22T22:12:26.531Z",
          "iopub.status.idle": "2020-12-22T22:12:26.543Z",
          "shell.execute_reply": "2020-12-22T22:12:26.550Z"
        }
      }
    },
    {
      "cell_type": "code",
      "source": [
        "\n",
        "income_df = cal_avg(income_df, periods)\n",
        "income_df = income_df[[\"Country Code\"] + [f\"{start}-{end}\" for start, end in periods]]\n",
        "income_df.head()\n"
      ],
      "outputs": [
        {
          "output_type": "execute_result",
          "execution_count": 42,
          "data": {
            "text/plain": "  Country Code  1973-1977  1978-1982  1983-1987     1988-1992     1993-1997  \\\n0          ABW        NaN        NaN        NaN  25390.951563  28558.959338   \n1          AFG        NaN        NaN        NaN           NaN           NaN   \n2          AGO        NaN        NaN        NaN   2950.746116   2462.783660   \n3          ALB        NaN        NaN        NaN   2114.013365   2542.741392   \n4          AND        NaN        NaN        NaN           NaN           NaN   \n\n      1998-2002     2003-2007     2008-2012     2013-2017  \n0  31342.497814  34965.490654  35577.326894  38268.170400  \n1    860.137134   1013.565156   1570.549361   1931.065809  \n2   3156.845681   4550.776678   6325.737355   6927.056337  \n3   3863.344073   6023.738097   9481.020328  11665.245130  \n4           NaN           NaN           NaN           NaN  ",
            "text/html": "<div>\n<style scoped>\n    .dataframe tbody tr th:only-of-type {\n        vertical-align: middle;\n    }\n\n    .dataframe tbody tr th {\n        vertical-align: top;\n    }\n\n    .dataframe thead th {\n        text-align: right;\n    }\n</style>\n<table border=\"1\" class=\"dataframe\">\n  <thead>\n    <tr style=\"text-align: right;\">\n      <th></th>\n      <th>Country Code</th>\n      <th>1973-1977</th>\n      <th>1978-1982</th>\n      <th>1983-1987</th>\n      <th>1988-1992</th>\n      <th>1993-1997</th>\n      <th>1998-2002</th>\n      <th>2003-2007</th>\n      <th>2008-2012</th>\n      <th>2013-2017</th>\n    </tr>\n  </thead>\n  <tbody>\n    <tr>\n      <th>0</th>\n      <td>ABW</td>\n      <td>NaN</td>\n      <td>NaN</td>\n      <td>NaN</td>\n      <td>25390.951563</td>\n      <td>28558.959338</td>\n      <td>31342.497814</td>\n      <td>34965.490654</td>\n      <td>35577.326894</td>\n      <td>38268.170400</td>\n    </tr>\n    <tr>\n      <th>1</th>\n      <td>AFG</td>\n      <td>NaN</td>\n      <td>NaN</td>\n      <td>NaN</td>\n      <td>NaN</td>\n      <td>NaN</td>\n      <td>860.137134</td>\n      <td>1013.565156</td>\n      <td>1570.549361</td>\n      <td>1931.065809</td>\n    </tr>\n    <tr>\n      <th>2</th>\n      <td>AGO</td>\n      <td>NaN</td>\n      <td>NaN</td>\n      <td>NaN</td>\n      <td>2950.746116</td>\n      <td>2462.783660</td>\n      <td>3156.845681</td>\n      <td>4550.776678</td>\n      <td>6325.737355</td>\n      <td>6927.056337</td>\n    </tr>\n    <tr>\n      <th>3</th>\n      <td>ALB</td>\n      <td>NaN</td>\n      <td>NaN</td>\n      <td>NaN</td>\n      <td>2114.013365</td>\n      <td>2542.741392</td>\n      <td>3863.344073</td>\n      <td>6023.738097</td>\n      <td>9481.020328</td>\n      <td>11665.245130</td>\n    </tr>\n    <tr>\n      <th>4</th>\n      <td>AND</td>\n      <td>NaN</td>\n      <td>NaN</td>\n      <td>NaN</td>\n      <td>NaN</td>\n      <td>NaN</td>\n      <td>NaN</td>\n      <td>NaN</td>\n      <td>NaN</td>\n      <td>NaN</td>\n    </tr>\n  </tbody>\n</table>\n</div>"
          },
          "metadata": {}
        }
      ],
      "execution_count": 42,
      "metadata": {
        "collapsed": true,
        "jupyter": {
          "source_hidden": false,
          "outputs_hidden": false
        },
        "nteract": {
          "transient": {
            "deleting": false
          }
        },
        "execution": {
          "iopub.status.busy": "2020-12-22T22:12:27.660Z",
          "iopub.execute_input": "2020-12-22T22:12:27.666Z",
          "iopub.status.idle": "2020-12-22T22:12:27.680Z",
          "shell.execute_reply": "2020-12-22T22:12:27.686Z"
        }
      }
    },
    {
      "cell_type": "code",
      "source": [
        "income_df = income_df.melt(\n",
        "    id_vars=[\"Country Code\"], var_name=\"Year\", value_name=\"Income\"\n",
        ").rename(columns={\"Country Code\": \"Code\"})\n",
        "income_df.head()"
      ],
      "outputs": [
        {
          "output_type": "execute_result",
          "execution_count": 43,
          "data": {
            "text/plain": "  Code       Year  Income\n0  ABW  1973-1977     NaN\n1  AFG  1973-1977     NaN\n2  AGO  1973-1977     NaN\n3  ALB  1973-1977     NaN\n4  AND  1973-1977     NaN",
            "text/html": "<div>\n<style scoped>\n    .dataframe tbody tr th:only-of-type {\n        vertical-align: middle;\n    }\n\n    .dataframe tbody tr th {\n        vertical-align: top;\n    }\n\n    .dataframe thead th {\n        text-align: right;\n    }\n</style>\n<table border=\"1\" class=\"dataframe\">\n  <thead>\n    <tr style=\"text-align: right;\">\n      <th></th>\n      <th>Code</th>\n      <th>Year</th>\n      <th>Income</th>\n    </tr>\n  </thead>\n  <tbody>\n    <tr>\n      <th>0</th>\n      <td>ABW</td>\n      <td>1973-1977</td>\n      <td>NaN</td>\n    </tr>\n    <tr>\n      <th>1</th>\n      <td>AFG</td>\n      <td>1973-1977</td>\n      <td>NaN</td>\n    </tr>\n    <tr>\n      <th>2</th>\n      <td>AGO</td>\n      <td>1973-1977</td>\n      <td>NaN</td>\n    </tr>\n    <tr>\n      <th>3</th>\n      <td>ALB</td>\n      <td>1973-1977</td>\n      <td>NaN</td>\n    </tr>\n    <tr>\n      <th>4</th>\n      <td>AND</td>\n      <td>1973-1977</td>\n      <td>NaN</td>\n    </tr>\n  </tbody>\n</table>\n</div>"
          },
          "metadata": {}
        }
      ],
      "execution_count": 43,
      "metadata": {
        "collapsed": true,
        "jupyter": {
          "source_hidden": false,
          "outputs_hidden": false
        },
        "nteract": {
          "transient": {
            "deleting": false
          }
        },
        "execution": {
          "iopub.status.busy": "2020-12-22T22:12:30.667Z",
          "iopub.execute_input": "2020-12-22T22:12:30.672Z",
          "iopub.status.idle": "2020-12-22T22:12:30.683Z",
          "shell.execute_reply": "2020-12-22T22:12:30.688Z"
        }
      }
    },
    {
      "cell_type": "code",
      "source": [],
      "outputs": [],
      "execution_count": null,
      "metadata": {
        "collapsed": true,
        "jupyter": {
          "source_hidden": false,
          "outputs_hidden": false
        },
        "nteract": {
          "transient": {
            "deleting": false
          }
        }
      }
    }
  ],
  "metadata": {
    "kernel_info": {
      "name": "nsp"
    },
    "language_info": {
      "name": "python",
      "version": "3.8.6",
      "mimetype": "text/x-python",
      "codemirror_mode": {
        "name": "ipython",
        "version": 3
      },
      "pygments_lexer": "ipython3",
      "nbconvert_exporter": "python",
      "file_extension": ".py"
    },
    "kernelspec": {
      "argv": [
        "/Users/yy/anaconda3/envs/nsp/bin/python",
        "-m",
        "ipykernel_launcher",
        "-f",
        "{connection_file}"
      ],
      "display_name": "nsp",
      "language": "python",
      "name": "nsp"
    },
    "nteract": {
      "version": "0.27.0"
    }
  },
  "nbformat": 4,
  "nbformat_minor": 0
}