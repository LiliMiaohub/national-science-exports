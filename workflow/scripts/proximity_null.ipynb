{
 "cells": [
  {
   "cell_type": "code",
   "execution_count": 15,
   "metadata": {},
   "outputs": [],
   "source": [
    "%load_ext autoreload\n",
    "%autoreload 2"
   ]
  },
  {
   "cell_type": "code",
   "execution_count": 16,
   "metadata": {},
   "outputs": [],
   "source": [
    "import sys\n",
    "from collections import Counter\n",
    "\n",
    "import numpy as np\n",
    "import pandas as pd\n",
    "\n",
    "import nsp.evolution\n",
    "import nsp.viz"
   ]
  },
  {
   "cell_type": "code",
   "execution_count": 17,
   "metadata": {
    "tags": [
     "parameters"
    ]
   },
   "outputs": [],
   "source": [
    "DENSITY_AND_TIMEFLAG = \"../../data/Derived/Publication_based/Transition/density_and_timeflag_full_1973-2017.csv\"\n",
    "DENSITY2PROB_PARAMS =  \"../../data/Derived/Publication_based/Transition/density2prob_full_1973-2017.csv\"\n",
    "PROXIMITY_NULL = \"../../data/Derived/Publication_based/Transition/proximity_null_grouplevel_full_1973-2017.csv\""
   ]
  },
  {
   "cell_type": "code",
   "execution_count": 18,
   "metadata": {},
   "outputs": [
    {
     "data": {
      "text/html": [
       "<div>\n",
       "<style scoped>\n",
       "    .dataframe tbody tr th:only-of-type {\n",
       "        vertical-align: middle;\n",
       "    }\n",
       "\n",
       "    .dataframe tbody tr th {\n",
       "        vertical-align: top;\n",
       "    }\n",
       "\n",
       "    .dataframe thead th {\n",
       "        text-align: right;\n",
       "    }\n",
       "</style>\n",
       "<table border=\"1\" class=\"dataframe\">\n",
       "  <thead>\n",
       "    <tr style=\"text-align: right;\">\n",
       "      <th></th>\n",
       "      <th>DIS</th>\n",
       "      <th>Density</th>\n",
       "      <th>st0</th>\n",
       "      <th>st1</th>\n",
       "      <th>COUNTRY</th>\n",
       "      <th>CRRT_TIME</th>\n",
       "    </tr>\n",
       "  </thead>\n",
       "  <tbody>\n",
       "    <tr>\n",
       "      <th>0</th>\n",
       "      <td>Acoustics</td>\n",
       "      <td>0.129612</td>\n",
       "      <td>0</td>\n",
       "      <td>0</td>\n",
       "      <td>Afghanistan</td>\n",
       "      <td>1973-1977</td>\n",
       "    </tr>\n",
       "    <tr>\n",
       "      <th>1</th>\n",
       "      <td>Addictive Diseases</td>\n",
       "      <td>0.171459</td>\n",
       "      <td>1</td>\n",
       "      <td>0</td>\n",
       "      <td>Afghanistan</td>\n",
       "      <td>1973-1977</td>\n",
       "    </tr>\n",
       "    <tr>\n",
       "      <th>2</th>\n",
       "      <td>Aerospace Technology</td>\n",
       "      <td>0.131653</td>\n",
       "      <td>0</td>\n",
       "      <td>0</td>\n",
       "      <td>Afghanistan</td>\n",
       "      <td>1973-1977</td>\n",
       "    </tr>\n",
       "    <tr>\n",
       "      <th>3</th>\n",
       "      <td>Agricult &amp; Food Science</td>\n",
       "      <td>0.215552</td>\n",
       "      <td>1</td>\n",
       "      <td>1</td>\n",
       "      <td>Afghanistan</td>\n",
       "      <td>1973-1977</td>\n",
       "    </tr>\n",
       "    <tr>\n",
       "      <th>4</th>\n",
       "      <td>Allergy</td>\n",
       "      <td>0.188202</td>\n",
       "      <td>0</td>\n",
       "      <td>0</td>\n",
       "      <td>Afghanistan</td>\n",
       "      <td>1973-1977</td>\n",
       "    </tr>\n",
       "  </tbody>\n",
       "</table>\n",
       "</div>"
      ],
      "text/plain": [
       "                       DIS   Density  st0  st1      COUNTRY  CRRT_TIME\n",
       "0                Acoustics  0.129612    0    0  Afghanistan  1973-1977\n",
       "1       Addictive Diseases  0.171459    1    0  Afghanistan  1973-1977\n",
       "2     Aerospace Technology  0.131653    0    0  Afghanistan  1973-1977\n",
       "3  Agricult & Food Science  0.215552    1    1  Afghanistan  1973-1977\n",
       "4                  Allergy  0.188202    0    0  Afghanistan  1973-1977"
      ]
     },
     "execution_count": 18,
     "metadata": {},
     "output_type": "execute_result"
    }
   ],
   "source": [
    "df = pd.read_csv(DENSITY_AND_TIMEFLAG)\n",
    "df.head(5)"
   ]
  },
  {
   "cell_type": "code",
   "execution_count": 19,
   "metadata": {},
   "outputs": [
    {
     "data": {
      "text/plain": [
       "(12,\n",
       " array(['Biophysics', 'Anatomy & Morphology', 'Demography', 'Virology',\n",
       "        'Dermatology & Venerial Disease', 'Public Health',\n",
       "        'Oceanography & Limnology', 'Aerospace Technology',\n",
       "        'Science studies', 'Nursing', 'Rehabilitation', 'Embryology'],\n",
       "       dtype=object),\n",
       " 3,\n",
       " array(['Miscellaneous Physics', 'Astronomy & Astrophysics',\n",
       "        'General Biomedical Research'], dtype=object))"
      ]
     },
     "execution_count": 19,
     "metadata": {},
     "output_type": "execute_result"
    }
   ],
   "source": [
    "em = nsp.evolution.EvolutionModel(\n",
    "    DENSITY_AND_TIMEFLAG, DENSITY2PROB_PARAMS)\n",
    "em.sample(\"China\", \"1978-1982\")"
   ]
  },
  {
   "cell_type": "code",
   "execution_count": 11,
   "metadata": {},
   "outputs": [],
   "source": [
    "countries = set(density_df.COUNTRY)"
   ]
  },
  {
   "cell_type": "code",
   "execution_count": 24,
   "metadata": {},
   "outputs": [
    {
     "data": {
      "text/plain": [
       "-0.06769076610324262"
      ]
     },
     "execution_count": 24,
     "metadata": {},
     "output_type": "execute_result"
    }
   ],
   "source": [
    "params_df.loc[0, \"CONSTANT\"]"
   ]
  },
  {
   "cell_type": "code",
   "execution_count": null,
   "metadata": {},
   "outputs": [],
   "source": []
  },
  {
   "cell_type": "code",
   "execution_count": null,
   "metadata": {},
   "outputs": [],
   "source": []
  }
 ],
 "metadata": {
  "kernelspec": {
   "display_name": "nsp",
   "language": "python",
   "name": "nsp"
  },
  "language_info": {
   "codemirror_mode": {
    "name": "ipython",
    "version": 3
   },
   "file_extension": ".py",
   "mimetype": "text/x-python",
   "name": "python",
   "nbconvert_exporter": "python",
   "pygments_lexer": "ipython3",
   "version": "3.7.3"
  },
  "toc": {
   "nav_menu": {},
   "number_sections": true,
   "sideBar": true,
   "skip_h1_title": false,
   "title_cell": "Table of Contents",
   "title_sidebar": "Contents",
   "toc_cell": false,
   "toc_position": {},
   "toc_section_display": true,
   "toc_window_display": false
  }
 },
 "nbformat": 4,
 "nbformat_minor": 4
}
