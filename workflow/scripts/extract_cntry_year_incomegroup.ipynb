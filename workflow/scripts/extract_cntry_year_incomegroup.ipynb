{
 "cells": [
  {
   "cell_type": "markdown",
   "metadata": {},
   "source": [
    "This script examines each period (from `INTERVAL_FILE`) and extract the income group designation of each country during the period (from `INCOME_GROUP`). It attaches the country name in WoS using `FLAG_TABLE` file and writes the resulting table to `CNTRY_YEAR_INCOMEGROUP` file. "
   ]
  },
  {
   "cell_type": "code",
   "execution_count": 4,
   "metadata": {
    "execution": {
     "iopub.execute_input": "2020-12-22T21:17:02.858Z",
     "iopub.status.busy": "2020-12-22T21:17:02.851Z",
     "iopub.status.idle": "2020-12-22T21:17:02.871Z",
     "shell.execute_reply": "2020-12-22T21:17:02.879Z"
    }
   },
   "outputs": [],
   "source": [
    "import sys\n",
    "import numpy as np\n",
    "import pandas as pd\n",
    "from itertools import islice\n",
    "from os.path import join as pjoin"
   ]
  },
  {
   "cell_type": "markdown",
   "metadata": {},
   "source": [
    "# Parameters\n",
    "\n",
    "This cell contains parameters that can be passed from `papermill`. "
   ]
  },
  {
   "cell_type": "code",
   "execution_count": 14,
   "metadata": {
    "execution": {
     "iopub.execute_input": "2020-12-22T21:17:47.345Z",
     "iopub.status.busy": "2020-12-22T21:17:47.338Z",
     "iopub.status.idle": "2020-12-22T21:17:47.356Z",
     "shell.execute_reply": "2020-12-22T21:17:47.364Z"
    },
    "tags": [
     "parameters"
    ]
   },
   "outputs": [],
   "source": [
    "WORK_DIR = \"../../nsp/Data/Additional_data\"\n",
    "INCOME_GROUP = pjoin(WORK_DIR, \"IncomeGroup.xlsx\")\n",
    "INTERVAL_FILE = pjoin(WORK_DIR, \"year_intervals.txt\")\n",
    "FLAG_TABLE = pjoin(WORK_DIR, \"country_WoS_ECI_WB_flags.tsv\")\n",
    "CNTRY_YEAR_INCOMEGROUP = pjoin(\"cntry_year_incomegroup.csv\")"
   ]
  },
  {
   "cell_type": "markdown",
   "metadata": {},
   "source": [
    "# Code"
   ]
  },
  {
   "cell_type": "code",
   "execution_count": 15,
   "metadata": {
    "execution": {
     "iopub.execute_input": "2020-12-22T21:17:48.782Z",
     "iopub.status.busy": "2020-12-22T21:17:48.773Z",
     "iopub.status.idle": "2020-12-22T21:17:49.213Z",
     "shell.execute_reply": "2020-12-22T21:17:49.220Z"
    }
   },
   "outputs": [],
   "source": [
    "incomegroup_df = pd.read_excel(INCOME_GROUP, engine=\"openpyxl\").replace(\n",
    "    to_replace=\"..\", value=np.nan\n",
    ")\n",
    "periods = [\n",
    "    tuple(map(int, x.strip(\"\\n\").split(\"-\")))\n",
    "    for x in islice(open(INTERVAL_FILE), 3, None)\n",
    "]\n",
    "\n",
    "result_df = pd.DataFrame()\n",
    "for (start, end) in periods:\n",
    "    cols = list(np.arange(start, end + 1)) + [\"Code\"]\n",
    "    subset_df = incomegroup_df[cols]\n",
    "    mode_df = (\n",
    "        subset_df.set_index(\"Code\").mode(axis=1, dropna=True).reset_index()[[\"Code\", 0]]\n",
    "    )\n",
    "    mode_df[\"YEAR\"] = f\"{start}-{end}\"\n",
    "    result_df = pd.concat([result_df, mode_df])\n",
    "result_df.columns = [\"Code\", \"IncomeGroup\", \"YEAR\"]\n",
    "\n",
    "cntry_flag = pd.read_csv(FLAG_TABLE, sep=\"\\t\")\n",
    "result_df = result_df.merge(cntry_flag[[\"WoS\", \"Code\"]], on=\"Code\")\n",
    "\n",
    "result_df.to_csv(CNTRY_YEAR_INCOMEGROUP, index=False)\n"
   ]
  },
  {
   "cell_type": "markdown",
   "metadata": {},
   "source": [
    "# Explanation"
   ]
  },
  {
   "cell_type": "code",
   "execution_count": 7,
   "metadata": {
    "execution": {
     "iopub.execute_input": "2020-12-22T21:17:08.872Z",
     "iopub.status.busy": "2020-12-22T21:17:08.864Z",
     "iopub.status.idle": "2020-12-22T21:17:08.944Z",
     "shell.execute_reply": "2020-12-22T21:17:08.973Z"
    }
   },
   "outputs": [
    {
     "data": {
      "text/html": [
       "<div>\n",
       "<style scoped>\n",
       "    .dataframe tbody tr th:only-of-type {\n",
       "        vertical-align: middle;\n",
       "    }\n",
       "\n",
       "    .dataframe tbody tr th {\n",
       "        vertical-align: top;\n",
       "    }\n",
       "\n",
       "    .dataframe thead th {\n",
       "        text-align: right;\n",
       "    }\n",
       "</style>\n",
       "<table border=\"1\" class=\"dataframe\">\n",
       "  <thead>\n",
       "    <tr style=\"text-align: right;\">\n",
       "      <th></th>\n",
       "      <th>Code</th>\n",
       "      <th>Data for calendar year :</th>\n",
       "      <th>1987</th>\n",
       "      <th>1988</th>\n",
       "      <th>1989</th>\n",
       "      <th>1990</th>\n",
       "      <th>1991</th>\n",
       "      <th>1992</th>\n",
       "      <th>1993</th>\n",
       "      <th>1994</th>\n",
       "      <th>...</th>\n",
       "      <th>Unnamed: 246</th>\n",
       "      <th>Unnamed: 247</th>\n",
       "      <th>Unnamed: 248</th>\n",
       "      <th>Unnamed: 249</th>\n",
       "      <th>Unnamed: 250</th>\n",
       "      <th>Unnamed: 251</th>\n",
       "      <th>Unnamed: 252</th>\n",
       "      <th>Unnamed: 253</th>\n",
       "      <th>Unnamed: 254</th>\n",
       "      <th>Unnamed: 255</th>\n",
       "    </tr>\n",
       "  </thead>\n",
       "  <tbody>\n",
       "    <tr>\n",
       "      <th>0</th>\n",
       "      <td>AFG</td>\n",
       "      <td>Afghanistan</td>\n",
       "      <td>L</td>\n",
       "      <td>L</td>\n",
       "      <td>L</td>\n",
       "      <td>L</td>\n",
       "      <td>L</td>\n",
       "      <td>L</td>\n",
       "      <td>L</td>\n",
       "      <td>L</td>\n",
       "      <td>...</td>\n",
       "      <td>NaN</td>\n",
       "      <td>NaN</td>\n",
       "      <td>NaN</td>\n",
       "      <td>NaN</td>\n",
       "      <td>NaN</td>\n",
       "      <td>NaN</td>\n",
       "      <td>NaN</td>\n",
       "      <td>NaN</td>\n",
       "      <td>NaN</td>\n",
       "      <td>NaN</td>\n",
       "    </tr>\n",
       "    <tr>\n",
       "      <th>1</th>\n",
       "      <td>ALB</td>\n",
       "      <td>Albania</td>\n",
       "      <td>NaN</td>\n",
       "      <td>NaN</td>\n",
       "      <td>NaN</td>\n",
       "      <td>LM</td>\n",
       "      <td>LM</td>\n",
       "      <td>LM</td>\n",
       "      <td>L</td>\n",
       "      <td>L</td>\n",
       "      <td>...</td>\n",
       "      <td>NaN</td>\n",
       "      <td>NaN</td>\n",
       "      <td>NaN</td>\n",
       "      <td>NaN</td>\n",
       "      <td>NaN</td>\n",
       "      <td>NaN</td>\n",
       "      <td>NaN</td>\n",
       "      <td>NaN</td>\n",
       "      <td>NaN</td>\n",
       "      <td>NaN</td>\n",
       "    </tr>\n",
       "    <tr>\n",
       "      <th>2</th>\n",
       "      <td>DZA</td>\n",
       "      <td>Algeria</td>\n",
       "      <td>UM</td>\n",
       "      <td>UM</td>\n",
       "      <td>LM</td>\n",
       "      <td>LM</td>\n",
       "      <td>LM</td>\n",
       "      <td>LM</td>\n",
       "      <td>LM</td>\n",
       "      <td>LM</td>\n",
       "      <td>...</td>\n",
       "      <td>NaN</td>\n",
       "      <td>NaN</td>\n",
       "      <td>NaN</td>\n",
       "      <td>NaN</td>\n",
       "      <td>NaN</td>\n",
       "      <td>NaN</td>\n",
       "      <td>NaN</td>\n",
       "      <td>NaN</td>\n",
       "      <td>NaN</td>\n",
       "      <td>NaN</td>\n",
       "    </tr>\n",
       "    <tr>\n",
       "      <th>3</th>\n",
       "      <td>ASM</td>\n",
       "      <td>American Samoa</td>\n",
       "      <td>H</td>\n",
       "      <td>H</td>\n",
       "      <td>H</td>\n",
       "      <td>UM</td>\n",
       "      <td>UM</td>\n",
       "      <td>UM</td>\n",
       "      <td>UM</td>\n",
       "      <td>UM</td>\n",
       "      <td>...</td>\n",
       "      <td>NaN</td>\n",
       "      <td>NaN</td>\n",
       "      <td>NaN</td>\n",
       "      <td>NaN</td>\n",
       "      <td>NaN</td>\n",
       "      <td>NaN</td>\n",
       "      <td>NaN</td>\n",
       "      <td>NaN</td>\n",
       "      <td>NaN</td>\n",
       "      <td>NaN</td>\n",
       "    </tr>\n",
       "    <tr>\n",
       "      <th>4</th>\n",
       "      <td>AND</td>\n",
       "      <td>Andorra</td>\n",
       "      <td>NaN</td>\n",
       "      <td>NaN</td>\n",
       "      <td>NaN</td>\n",
       "      <td>H</td>\n",
       "      <td>H</td>\n",
       "      <td>H</td>\n",
       "      <td>H</td>\n",
       "      <td>H</td>\n",
       "      <td>...</td>\n",
       "      <td>NaN</td>\n",
       "      <td>NaN</td>\n",
       "      <td>NaN</td>\n",
       "      <td>NaN</td>\n",
       "      <td>NaN</td>\n",
       "      <td>NaN</td>\n",
       "      <td>NaN</td>\n",
       "      <td>NaN</td>\n",
       "      <td>NaN</td>\n",
       "      <td>NaN</td>\n",
       "    </tr>\n",
       "    <tr>\n",
       "      <th>...</th>\n",
       "      <td>...</td>\n",
       "      <td>...</td>\n",
       "      <td>...</td>\n",
       "      <td>...</td>\n",
       "      <td>...</td>\n",
       "      <td>...</td>\n",
       "      <td>...</td>\n",
       "      <td>...</td>\n",
       "      <td>...</td>\n",
       "      <td>...</td>\n",
       "      <td>...</td>\n",
       "      <td>...</td>\n",
       "      <td>...</td>\n",
       "      <td>...</td>\n",
       "      <td>...</td>\n",
       "      <td>...</td>\n",
       "      <td>...</td>\n",
       "      <td>...</td>\n",
       "      <td>...</td>\n",
       "      <td>...</td>\n",
       "      <td>...</td>\n",
       "    </tr>\n",
       "    <tr>\n",
       "      <th>219</th>\n",
       "      <td>MYT</td>\n",
       "      <td>Mayotte</td>\n",
       "      <td>NaN</td>\n",
       "      <td>NaN</td>\n",
       "      <td>NaN</td>\n",
       "      <td>H</td>\n",
       "      <td>UM</td>\n",
       "      <td>UM</td>\n",
       "      <td>UM</td>\n",
       "      <td>UM</td>\n",
       "      <td>...</td>\n",
       "      <td>NaN</td>\n",
       "      <td>NaN</td>\n",
       "      <td>NaN</td>\n",
       "      <td>NaN</td>\n",
       "      <td>NaN</td>\n",
       "      <td>NaN</td>\n",
       "      <td>NaN</td>\n",
       "      <td>NaN</td>\n",
       "      <td>NaN</td>\n",
       "      <td>NaN</td>\n",
       "    </tr>\n",
       "    <tr>\n",
       "      <th>220</th>\n",
       "      <td>ANT</td>\n",
       "      <td>Netherlands Antilles (former)</td>\n",
       "      <td>UM</td>\n",
       "      <td>UM</td>\n",
       "      <td>UM</td>\n",
       "      <td>UM</td>\n",
       "      <td>UM</td>\n",
       "      <td>UM</td>\n",
       "      <td>UM</td>\n",
       "      <td>H</td>\n",
       "      <td>...</td>\n",
       "      <td>NaN</td>\n",
       "      <td>NaN</td>\n",
       "      <td>NaN</td>\n",
       "      <td>NaN</td>\n",
       "      <td>NaN</td>\n",
       "      <td>NaN</td>\n",
       "      <td>NaN</td>\n",
       "      <td>NaN</td>\n",
       "      <td>NaN</td>\n",
       "      <td>NaN</td>\n",
       "    </tr>\n",
       "    <tr>\n",
       "      <th>221</th>\n",
       "      <td>YUG</td>\n",
       "      <td>Serbia and Montenegro (former)</td>\n",
       "      <td>NaN</td>\n",
       "      <td>NaN</td>\n",
       "      <td>NaN</td>\n",
       "      <td>NaN</td>\n",
       "      <td>NaN</td>\n",
       "      <td>LM</td>\n",
       "      <td>LM</td>\n",
       "      <td>LM</td>\n",
       "      <td>...</td>\n",
       "      <td>NaN</td>\n",
       "      <td>NaN</td>\n",
       "      <td>NaN</td>\n",
       "      <td>NaN</td>\n",
       "      <td>NaN</td>\n",
       "      <td>NaN</td>\n",
       "      <td>NaN</td>\n",
       "      <td>NaN</td>\n",
       "      <td>NaN</td>\n",
       "      <td>NaN</td>\n",
       "    </tr>\n",
       "    <tr>\n",
       "      <th>222</th>\n",
       "      <td>SUN</td>\n",
       "      <td>USSR (former)</td>\n",
       "      <td>NaN</td>\n",
       "      <td>NaN</td>\n",
       "      <td>NaN</td>\n",
       "      <td>UM</td>\n",
       "      <td>NaN</td>\n",
       "      <td>NaN</td>\n",
       "      <td>NaN</td>\n",
       "      <td>NaN</td>\n",
       "      <td>...</td>\n",
       "      <td>NaN</td>\n",
       "      <td>NaN</td>\n",
       "      <td>NaN</td>\n",
       "      <td>NaN</td>\n",
       "      <td>NaN</td>\n",
       "      <td>NaN</td>\n",
       "      <td>NaN</td>\n",
       "      <td>NaN</td>\n",
       "      <td>NaN</td>\n",
       "      <td>NaN</td>\n",
       "    </tr>\n",
       "    <tr>\n",
       "      <th>223</th>\n",
       "      <td>YUGf</td>\n",
       "      <td>Yugoslavia (former)</td>\n",
       "      <td>UM</td>\n",
       "      <td>UM</td>\n",
       "      <td>UM</td>\n",
       "      <td>UM</td>\n",
       "      <td>UM</td>\n",
       "      <td>NaN</td>\n",
       "      <td>NaN</td>\n",
       "      <td>NaN</td>\n",
       "      <td>...</td>\n",
       "      <td>NaN</td>\n",
       "      <td>NaN</td>\n",
       "      <td>NaN</td>\n",
       "      <td>NaN</td>\n",
       "      <td>NaN</td>\n",
       "      <td>NaN</td>\n",
       "      <td>NaN</td>\n",
       "      <td>NaN</td>\n",
       "      <td>NaN</td>\n",
       "      <td>NaN</td>\n",
       "    </tr>\n",
       "  </tbody>\n",
       "</table>\n",
       "<p>224 rows × 256 columns</p>\n",
       "</div>"
      ],
      "text/plain": [
       "     Code        Data for calendar year : 1987 1988 1989 1990 1991 1992 1993  \\\n",
       "0     AFG                     Afghanistan    L    L    L    L    L    L    L   \n",
       "1     ALB                         Albania  NaN  NaN  NaN   LM   LM   LM    L   \n",
       "2     DZA                         Algeria   UM   UM   LM   LM   LM   LM   LM   \n",
       "3     ASM                  American Samoa    H    H    H   UM   UM   UM   UM   \n",
       "4     AND                         Andorra  NaN  NaN  NaN    H    H    H    H   \n",
       "..    ...                             ...  ...  ...  ...  ...  ...  ...  ...   \n",
       "219   MYT                         Mayotte  NaN  NaN  NaN    H   UM   UM   UM   \n",
       "220   ANT   Netherlands Antilles (former)   UM   UM   UM   UM   UM   UM   UM   \n",
       "221   YUG  Serbia and Montenegro (former)  NaN  NaN  NaN  NaN  NaN   LM   LM   \n",
       "222   SUN                   USSR (former)  NaN  NaN  NaN   UM  NaN  NaN  NaN   \n",
       "223  YUGf             Yugoslavia (former)   UM   UM   UM   UM   UM  NaN  NaN   \n",
       "\n",
       "    1994  ... Unnamed: 246 Unnamed: 247 Unnamed: 248 Unnamed: 249  \\\n",
       "0      L  ...          NaN          NaN          NaN          NaN   \n",
       "1      L  ...          NaN          NaN          NaN          NaN   \n",
       "2     LM  ...          NaN          NaN          NaN          NaN   \n",
       "3     UM  ...          NaN          NaN          NaN          NaN   \n",
       "4      H  ...          NaN          NaN          NaN          NaN   \n",
       "..   ...  ...          ...          ...          ...          ...   \n",
       "219   UM  ...          NaN          NaN          NaN          NaN   \n",
       "220    H  ...          NaN          NaN          NaN          NaN   \n",
       "221   LM  ...          NaN          NaN          NaN          NaN   \n",
       "222  NaN  ...          NaN          NaN          NaN          NaN   \n",
       "223  NaN  ...          NaN          NaN          NaN          NaN   \n",
       "\n",
       "    Unnamed: 250 Unnamed: 251 Unnamed: 252 Unnamed: 253 Unnamed: 254  \\\n",
       "0            NaN          NaN          NaN          NaN          NaN   \n",
       "1            NaN          NaN          NaN          NaN          NaN   \n",
       "2            NaN          NaN          NaN          NaN          NaN   \n",
       "3            NaN          NaN          NaN          NaN          NaN   \n",
       "4            NaN          NaN          NaN          NaN          NaN   \n",
       "..           ...          ...          ...          ...          ...   \n",
       "219          NaN          NaN          NaN          NaN          NaN   \n",
       "220          NaN          NaN          NaN          NaN          NaN   \n",
       "221          NaN          NaN          NaN          NaN          NaN   \n",
       "222          NaN          NaN          NaN          NaN          NaN   \n",
       "223          NaN          NaN          NaN          NaN          NaN   \n",
       "\n",
       "    Unnamed: 255  \n",
       "0            NaN  \n",
       "1            NaN  \n",
       "2            NaN  \n",
       "3            NaN  \n",
       "4            NaN  \n",
       "..           ...  \n",
       "219          NaN  \n",
       "220          NaN  \n",
       "221          NaN  \n",
       "222          NaN  \n",
       "223          NaN  \n",
       "\n",
       "[224 rows x 256 columns]"
      ]
     },
     "execution_count": 7,
     "metadata": {},
     "output_type": "execute_result"
    }
   ],
   "source": [
    "incomegroup_df = pd.read_excel(INCOME_GROUP, engine='openpyxl').replace(to_replace=\"..\", value=np.nan)\n",
    "incomegroup_df"
   ]
  },
  {
   "cell_type": "code",
   "execution_count": 8,
   "metadata": {
    "execution": {
     "iopub.execute_input": "2020-12-22T21:17:09.598Z",
     "iopub.status.busy": "2020-12-22T21:17:09.591Z",
     "iopub.status.idle": "2020-12-22T21:17:09.617Z",
     "shell.execute_reply": "2020-12-22T21:17:09.627Z"
    }
   },
   "outputs": [
    {
     "data": {
      "text/plain": [
       "['1988-1992\\n',\n",
       " '1993-1997\\n',\n",
       " '1998-2002\\n',\n",
       " '2003-2007\\n',\n",
       " '2008-2012\\n',\n",
       " '2013-2017']"
      ]
     },
     "execution_count": 8,
     "metadata": {},
     "output_type": "execute_result"
    }
   ],
   "source": [
    "open(INTERVAL_FILE).readlines()[3:]"
   ]
  },
  {
   "cell_type": "code",
   "execution_count": 9,
   "metadata": {
    "execution": {
     "iopub.execute_input": "2020-12-22T21:17:10.062Z",
     "iopub.status.busy": "2020-12-22T21:17:10.055Z",
     "iopub.status.idle": "2020-12-22T21:17:10.079Z",
     "shell.execute_reply": "2020-12-22T21:17:10.085Z"
    }
   },
   "outputs": [
    {
     "data": {
      "text/plain": [
       "[(1988, 1992),\n",
       " (1993, 1997),\n",
       " (1998, 2002),\n",
       " (2003, 2007),\n",
       " (2008, 2012),\n",
       " (2013, 2017)]"
      ]
     },
     "execution_count": 9,
     "metadata": {},
     "output_type": "execute_result"
    }
   ],
   "source": [
    "periods = [tuple(map(int, x.strip(\"\\n\").split('-'))) for x in islice(open(INTERVAL_FILE), 3, None)]\n",
    "periods"
   ]
  },
  {
   "cell_type": "code",
   "execution_count": 10,
   "metadata": {
    "execution": {
     "iopub.execute_input": "2020-12-22T21:17:10.489Z",
     "iopub.status.busy": "2020-12-22T21:17:10.481Z",
     "iopub.status.idle": "2020-12-22T21:17:10.502Z",
     "shell.execute_reply": "2020-12-22T21:17:10.507Z"
    }
   },
   "outputs": [
    {
     "data": {
      "text/plain": [
       "[1988, 1989, 1990, 1991, 'Code']"
      ]
     },
     "execution_count": 10,
     "metadata": {},
     "output_type": "execute_result"
    }
   ],
   "source": [
    "cols = list(np.arange(1988, 1992)) + [\"Code\"]\n",
    "cols"
   ]
  },
  {
   "cell_type": "code",
   "execution_count": 11,
   "metadata": {
    "execution": {
     "iopub.execute_input": "2020-12-22T21:17:10.746Z",
     "iopub.status.busy": "2020-12-22T21:17:10.739Z",
     "iopub.status.idle": "2020-12-22T21:17:10.763Z",
     "shell.execute_reply": "2020-12-22T21:17:10.769Z"
    }
   },
   "outputs": [
    {
     "data": {
      "text/html": [
       "<div>\n",
       "<style scoped>\n",
       "    .dataframe tbody tr th:only-of-type {\n",
       "        vertical-align: middle;\n",
       "    }\n",
       "\n",
       "    .dataframe tbody tr th {\n",
       "        vertical-align: top;\n",
       "    }\n",
       "\n",
       "    .dataframe thead th {\n",
       "        text-align: right;\n",
       "    }\n",
       "</style>\n",
       "<table border=\"1\" class=\"dataframe\">\n",
       "  <thead>\n",
       "    <tr style=\"text-align: right;\">\n",
       "      <th></th>\n",
       "      <th>1988</th>\n",
       "      <th>1989</th>\n",
       "      <th>1990</th>\n",
       "      <th>1991</th>\n",
       "      <th>Code</th>\n",
       "    </tr>\n",
       "  </thead>\n",
       "  <tbody>\n",
       "    <tr>\n",
       "      <th>0</th>\n",
       "      <td>L</td>\n",
       "      <td>L</td>\n",
       "      <td>L</td>\n",
       "      <td>L</td>\n",
       "      <td>AFG</td>\n",
       "    </tr>\n",
       "    <tr>\n",
       "      <th>1</th>\n",
       "      <td>NaN</td>\n",
       "      <td>NaN</td>\n",
       "      <td>LM</td>\n",
       "      <td>LM</td>\n",
       "      <td>ALB</td>\n",
       "    </tr>\n",
       "    <tr>\n",
       "      <th>2</th>\n",
       "      <td>UM</td>\n",
       "      <td>LM</td>\n",
       "      <td>LM</td>\n",
       "      <td>LM</td>\n",
       "      <td>DZA</td>\n",
       "    </tr>\n",
       "    <tr>\n",
       "      <th>3</th>\n",
       "      <td>H</td>\n",
       "      <td>H</td>\n",
       "      <td>UM</td>\n",
       "      <td>UM</td>\n",
       "      <td>ASM</td>\n",
       "    </tr>\n",
       "    <tr>\n",
       "      <th>4</th>\n",
       "      <td>NaN</td>\n",
       "      <td>NaN</td>\n",
       "      <td>H</td>\n",
       "      <td>H</td>\n",
       "      <td>AND</td>\n",
       "    </tr>\n",
       "  </tbody>\n",
       "</table>\n",
       "</div>"
      ],
      "text/plain": [
       "  1988 1989 1990 1991 Code\n",
       "0    L    L    L    L  AFG\n",
       "1  NaN  NaN   LM   LM  ALB\n",
       "2   UM   LM   LM   LM  DZA\n",
       "3    H    H   UM   UM  ASM\n",
       "4  NaN  NaN    H    H  AND"
      ]
     },
     "execution_count": 11,
     "metadata": {},
     "output_type": "execute_result"
    }
   ],
   "source": [
    "subset_df = incomegroup_df[cols]\n",
    "subset_df.head()"
   ]
  },
  {
   "cell_type": "code",
   "execution_count": 12,
   "metadata": {
    "execution": {
     "iopub.execute_input": "2020-12-22T21:17:11.022Z",
     "iopub.status.busy": "2020-12-22T21:17:11.017Z",
     "iopub.status.idle": "2020-12-22T21:17:11.035Z",
     "shell.execute_reply": "2020-12-22T21:17:11.049Z"
    }
   },
   "outputs": [
    {
     "data": {
      "text/html": [
       "<div>\n",
       "<style scoped>\n",
       "    .dataframe tbody tr th:only-of-type {\n",
       "        vertical-align: middle;\n",
       "    }\n",
       "\n",
       "    .dataframe tbody tr th {\n",
       "        vertical-align: top;\n",
       "    }\n",
       "\n",
       "    .dataframe thead th {\n",
       "        text-align: right;\n",
       "    }\n",
       "</style>\n",
       "<table border=\"1\" class=\"dataframe\">\n",
       "  <thead>\n",
       "    <tr style=\"text-align: right;\">\n",
       "      <th></th>\n",
       "      <th>0</th>\n",
       "      <th>1</th>\n",
       "      <th>YEAR</th>\n",
       "    </tr>\n",
       "    <tr>\n",
       "      <th>Code</th>\n",
       "      <th></th>\n",
       "      <th></th>\n",
       "      <th></th>\n",
       "    </tr>\n",
       "  </thead>\n",
       "  <tbody>\n",
       "    <tr>\n",
       "      <th>AFG</th>\n",
       "      <td>L</td>\n",
       "      <td>NaN</td>\n",
       "      <td>1988-1992</td>\n",
       "    </tr>\n",
       "    <tr>\n",
       "      <th>ALB</th>\n",
       "      <td>LM</td>\n",
       "      <td>NaN</td>\n",
       "      <td>1988-1992</td>\n",
       "    </tr>\n",
       "    <tr>\n",
       "      <th>DZA</th>\n",
       "      <td>LM</td>\n",
       "      <td>NaN</td>\n",
       "      <td>1988-1992</td>\n",
       "    </tr>\n",
       "    <tr>\n",
       "      <th>ASM</th>\n",
       "      <td>H</td>\n",
       "      <td>UM</td>\n",
       "      <td>1988-1992</td>\n",
       "    </tr>\n",
       "    <tr>\n",
       "      <th>AND</th>\n",
       "      <td>H</td>\n",
       "      <td>NaN</td>\n",
       "      <td>1988-1992</td>\n",
       "    </tr>\n",
       "  </tbody>\n",
       "</table>\n",
       "</div>"
      ],
      "text/plain": [
       "       0    1       YEAR\n",
       "Code                    \n",
       "AFG    L  NaN  1988-1992\n",
       "ALB   LM  NaN  1988-1992\n",
       "DZA   LM  NaN  1988-1992\n",
       "ASM    H   UM  1988-1992\n",
       "AND    H  NaN  1988-1992"
      ]
     },
     "execution_count": 12,
     "metadata": {},
     "output_type": "execute_result"
    }
   ],
   "source": [
    "mode_df = subset_df.set_index(\"Code\").mode(axis=1, dropna=True)\n",
    "mode_df[\"YEAR\"] = \"1988-1992\"\n",
    "mode_df.head()"
   ]
  },
  {
   "cell_type": "code",
   "execution_count": 13,
   "metadata": {
    "execution": {
     "iopub.execute_input": "2020-12-22T21:17:11.215Z",
     "iopub.status.busy": "2020-12-22T21:17:11.209Z",
     "iopub.status.idle": "2020-12-22T21:17:11.229Z",
     "shell.execute_reply": "2020-12-22T21:17:11.235Z"
    }
   },
   "outputs": [
    {
     "data": {
      "text/html": [
       "<div>\n",
       "<style scoped>\n",
       "    .dataframe tbody tr th:only-of-type {\n",
       "        vertical-align: middle;\n",
       "    }\n",
       "\n",
       "    .dataframe tbody tr th {\n",
       "        vertical-align: top;\n",
       "    }\n",
       "\n",
       "    .dataframe thead th {\n",
       "        text-align: right;\n",
       "    }\n",
       "</style>\n",
       "<table border=\"1\" class=\"dataframe\">\n",
       "  <thead>\n",
       "    <tr style=\"text-align: right;\">\n",
       "      <th></th>\n",
       "      <th>WoS</th>\n",
       "      <th>ECI_Country</th>\n",
       "      <th>WB</th>\n",
       "      <th>Code</th>\n",
       "    </tr>\n",
       "  </thead>\n",
       "  <tbody>\n",
       "    <tr>\n",
       "      <th>0</th>\n",
       "      <td>Albania</td>\n",
       "      <td>Albania</td>\n",
       "      <td>Albania</td>\n",
       "      <td>ALB</td>\n",
       "    </tr>\n",
       "    <tr>\n",
       "      <th>1</th>\n",
       "      <td>Algeria</td>\n",
       "      <td>Algeria</td>\n",
       "      <td>Algeria</td>\n",
       "      <td>DZA</td>\n",
       "    </tr>\n",
       "    <tr>\n",
       "      <th>2</th>\n",
       "      <td>Angola</td>\n",
       "      <td>Angola</td>\n",
       "      <td>Angola</td>\n",
       "      <td>AGO</td>\n",
       "    </tr>\n",
       "    <tr>\n",
       "      <th>3</th>\n",
       "      <td>Argentina</td>\n",
       "      <td>Argentina</td>\n",
       "      <td>Argentina</td>\n",
       "      <td>ARG</td>\n",
       "    </tr>\n",
       "    <tr>\n",
       "      <th>4</th>\n",
       "      <td>Australia</td>\n",
       "      <td>Australia</td>\n",
       "      <td>Australia</td>\n",
       "      <td>AUS</td>\n",
       "    </tr>\n",
       "  </tbody>\n",
       "</table>\n",
       "</div>"
      ],
      "text/plain": [
       "         WoS ECI_Country         WB Code\n",
       "0    Albania     Albania    Albania  ALB\n",
       "1    Algeria     Algeria    Algeria  DZA\n",
       "2     Angola      Angola     Angola  AGO\n",
       "3  Argentina   Argentina  Argentina  ARG\n",
       "4  Australia   Australia  Australia  AUS"
      ]
     },
     "execution_count": 13,
     "metadata": {},
     "output_type": "execute_result"
    }
   ],
   "source": [
    "cntry_flag = pd.read_csv(FLAG_TABLE, sep=\"\\t\")\n",
    "cntry_flag.head()\n"
   ]
  },
  {
   "cell_type": "code",
   "execution_count": null,
   "metadata": {
    "collapsed": true,
    "jupyter": {
     "outputs_hidden": true,
     "source_hidden": false
    },
    "nteract": {
     "transient": {
      "deleting": false
     }
    }
   },
   "outputs": [],
   "source": []
  },
  {
   "cell_type": "code",
   "execution_count": null,
   "metadata": {
    "collapsed": true,
    "jupyter": {
     "outputs_hidden": true,
     "source_hidden": false
    },
    "nteract": {
     "transient": {
      "deleting": false
     }
    }
   },
   "outputs": [],
   "source": []
  },
  {
   "cell_type": "code",
   "execution_count": null,
   "metadata": {
    "collapsed": true,
    "jupyter": {
     "outputs_hidden": true,
     "source_hidden": false
    },
    "nteract": {
     "transient": {
      "deleting": false
     }
    }
   },
   "outputs": [],
   "source": []
  }
 ],
 "metadata": {
  "kernel_info": {
   "name": "nsp"
  },
  "kernelspec": {
   "display_name": "nsp",
   "language": "python",
   "name": "nsp"
  },
  "language_info": {
   "codemirror_mode": {
    "name": "ipython",
    "version": 3
   },
   "file_extension": ".py",
   "mimetype": "text/x-python",
   "name": "python",
   "nbconvert_exporter": "python",
   "pygments_lexer": "ipython3",
   "version": "3.8.6"
  },
  "nteract": {
   "version": "0.27.0"
  }
 },
 "nbformat": 4,
 "nbformat_minor": 4
}
