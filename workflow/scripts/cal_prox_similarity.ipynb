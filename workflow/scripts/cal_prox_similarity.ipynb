{
 "cells": [
  {
   "cell_type": "markdown",
   "metadata": {
    "nteract": {
     "transient": {
      "deleting": false
     }
    }
   },
   "source": [
    "This script computes the stability of the proximity matrix across time by comparing each snapshot proximity matrix's elements to the overall matrix. "
   ]
  },
  {
   "cell_type": "code",

   "execution_count": 84,
   "metadata": {
    "execution": {
     "iopub.execute_input": "2020-12-25T03:21:45.965Z",
     "iopub.status.busy": "2020-12-25T03:21:45.961Z",
     "iopub.status.idle": "2020-12-25T03:21:45.973Z",
     "shell.execute_reply": "2020-12-25T03:21:45.980Z"
    },
    "nteract": {
     "transient": {
      "deleting": false
     }
    }
   },
   "outputs": [],
   "source": [
    "import sys\n",
    "import os\n",
    "from os.path import join as pjoin\n",
    "import numpy as np\n",
    "import pandas as pd\n",
    "import matplotlib.pyplot as plt\n",
    "\n",
    "START_YRS = list(range(1973, 2018, 5))\n",
    "END_YRS = list(range(1977, 2018, 5))\n",
    "periods = ['{}-{}'.format(sy, ey) for sy, ey in zip(START_YRS, END_YRS)]\n",
    "\n",
    "def load_data(fname):\n",
    "    return pd.read_csv(\n",
    "        fname, sep=\"\\t\", names=[\"source\", \"target\", \"weight\"]\n",
    "    ).sort_values(by=[\"source\", \"target\"])\n",
    "\n",
    "def cal_corr(all_df, snap_df):\n",
    "    meta_df = all_df.merge(snap_df, on=[\"source\", \"target\"], how=\"outer\").fillna(0)\n",
    "    return np.corrcoef(meta_df[\"weight_x\"], meta_df[\"weight_y\"])[0,1]"
   ]
  },
  {
   "cell_type": "code",
   "execution_count": 85,
   "metadata": {
    "execution": {
     "iopub.execute_input": "2020-12-25T03:21:46.717Z",
     "iopub.status.busy": "2020-12-25T03:21:46.713Z",
     "iopub.status.idle": "2020-12-25T03:21:46.725Z",
     "shell.execute_reply": "2020-12-25T03:21:46.729Z"
    },
    "nteract": {
     "transient": {
      "deleting": false
     }
    },
    "tags": [
     "parameters"
    ]
   },
   "outputs": [],
   "source": [
    "prox_all = pjoin(\"../../nsp/Data/Derived/Publication_based/Prox/\", 'prox_full_1973-2017.csv')\n",
    "figure_file = \"../test.pdf\""
   ]
  },
  {
   "cell_type": "code",
   "execution_count": 89,
   "metadata": {
    "execution": {
     "iopub.execute_input": "2020-12-25T03:22:26.540Z",
     "iopub.status.busy": "2020-12-25T03:22:26.535Z",
     "iopub.status.idle": "2020-12-25T03:22:26.550Z",
     "shell.execute_reply": "2020-12-25T03:22:26.555Z"
    },
    "nteract": {
     "transient": {
      "deleting": false
     }
    }
   },
   "outputs": [],
   "source": [
    "prox_dir = os.path.dirname(prox_all)\n",
    "prox_snapshots = [pjoin(prox_dir, \"snapshot\", \"full\", \"prox_{}.csv\".format(period)) for period in periods]"
   ]
  },
  {
   "cell_type": "code",
   "execution_count": 90,
   "metadata": {
    "execution": {
     "iopub.execute_input": "2020-12-25T03:22:28.518Z",
     "iopub.status.busy": "2020-12-25T03:22:28.513Z",
     "iopub.status.idle": "2020-12-25T03:22:29.053Z",
     "shell.execute_reply": "2020-12-25T03:22:29.063Z"
    },
    "nteract": {
     "transient": {
      "deleting": false
     }
    }
   },
   "outputs": [
    {
     "data": {
      "image/png": "[encoded data removed]",
      "text/plain": [
       "<Figure size 576x396 with 1 Axes>"
      ]
     },
     "metadata": {},
     "output_type": "display_data"
    }
   ],
   "source": [
    "prox_all_df = load_data(prox_all)\n",
    "corr_list = [cal_corr(prox_all_df, load_data(snapshot)) for snapshot in prox_snapshots]\n",
    "\n",
    "plt.style.use('ggplot')\n",
    "plt.plot(periods, corr_list)\n",
    "plt.xticks(rotation=45)\n",
    "plt.ylim((0.0, 1.0))\n",
    "plt.xlabel(\"Periods\")\n",
    "plt.ylabel(\"Correlation coefficient\")\n",
    "plt.tight_layout()\n",
    "plt.savefig(figure_file)\n",
    "plt.show()"
   ]
  },
  {
   "cell_type": "code",
   "execution_count": 15,
   "metadata": {
    "collapsed": true,
    "execution": {
     "iopub.execute_input": "2020-12-23T21:37:49.220Z",
     "iopub.status.busy": "2020-12-23T21:37:49.217Z",
     "iopub.status.idle": "2020-12-23T21:37:49.228Z",
     "shell.execute_reply": "2020-12-23T21:37:49.232Z"
    },
    "jupyter": {
     "outputs_hidden": true,
     "source_hidden": false
    },
    "nteract": {
     "transient": {
      "deleting": false
     }
    }
   },
   "outputs": [
    {
     "name": "stdout",
     "output_type": "stream",
     "text": [
      "../../nsp/Data/Derived/Publication_based/Prox/prox_full_1973-2017.csv\n",
      "['../../nsp/Data/Derived/Publication_based/Prox/snapshot/full/prox_1973-1977.csv', '../../nsp/Data/Derived/Publication_based/Prox/snapshot/full/prox_1978-1982.csv', '../../nsp/Data/Derived/Publication_based/Prox/snapshot/full/prox_1983-1987.csv', '../../nsp/Data/Derived/Publication_based/Prox/snapshot/full/prox_1988-1992.csv', '../../nsp/Data/Derived/Publication_based/Prox/snapshot/full/prox_1993-1997.csv', '../../nsp/Data/Derived/Publication_based/Prox/snapshot/full/prox_1998-2002.csv', '../../nsp/Data/Derived/Publication_based/Prox/snapshot/full/prox_2003-2007.csv', '../../nsp/Data/Derived/Publication_based/Prox/snapshot/full/prox_2008-2012.csv', '../../nsp/Data/Derived/Publication_based/Prox/snapshot/full/prox_2013-2017.csv']\n"
     ]
    }
   ],
   "source": [
    "print(prox_all)\n",
    "print(prox_snapshots)"
   ]
  },
  {
   "cell_type": "code",
   "execution_count": 34,
   "metadata": {
    "collapsed": true,
    "execution": {
     "iopub.execute_input": "2020-12-23T21:49:05.115Z",
     "iopub.status.busy": "2020-12-23T21:49:05.110Z",
     "iopub.status.idle": "2020-12-23T21:49:05.126Z",
     "shell.execute_reply": "2020-12-23T21:49:05.131Z"
    },
    "jupyter": {
     "outputs_hidden": true,
     "source_hidden": false
    },
    "nteract": {
     "transient": {
      "deleting": false
     }
    }
   },
   "outputs": [
    {
     "data": {
      "text/html": [
       "<div>\n",
       "<style scoped>\n",
       "    .dataframe tbody tr th:only-of-type {\n",
       "        vertical-align: middle;\n",
       "    }\n",
       "\n",
       "    .dataframe tbody tr th {\n",
       "        vertical-align: top;\n",
       "    }\n",
       "\n",
       "    .dataframe thead th {\n",
       "        text-align: right;\n",
       "    }\n",
       "</style>\n",
       "<table border=\"1\" class=\"dataframe\">\n",
       "  <thead>\n",
       "    <tr style=\"text-align: right;\">\n",
       "      <th></th>\n",
       "      <th>source</th>\n",
       "      <th>target</th>\n",
       "      <th>weight</th>\n",
       "    </tr>\n",
       "  </thead>\n",
       "  <tbody>\n",
       "    <tr>\n",
       "      <th>0</th>\n",
       "      <td>Acoustics</td>\n",
       "      <td>Acoustics</td>\n",
       "      <td>1.000000</td>\n",
       "    </tr>\n",
       "    <tr>\n",
       "      <th>143</th>\n",
       "      <td>Acoustics</td>\n",
       "      <td>Addictive Diseases</td>\n",
       "      <td>0.227273</td>\n",
       "    </tr>\n",
       "    <tr>\n",
       "      <th>286</th>\n",
       "      <td>Acoustics</td>\n",
       "      <td>Aerospace Technology</td>\n",
       "      <td>0.074074</td>\n",
       "    </tr>\n",
       "    <tr>\n",
       "      <th>429</th>\n",
       "      <td>Acoustics</td>\n",
       "      <td>Agricult &amp; Food Science</td>\n",
       "      <td>0.074627</td>\n",
       "    </tr>\n",
       "    <tr>\n",
       "      <th>572</th>\n",
       "      <td>Acoustics</td>\n",
       "      <td>Allergy</td>\n",
       "      <td>0.192982</td>\n",
       "    </tr>\n",
       "  </tbody>\n",
       "</table>\n",
       "</div>"
      ],
      "text/plain": [
       "        source                   target    weight\n",
       "0    Acoustics                Acoustics  1.000000\n",
       "143  Acoustics       Addictive Diseases  0.227273\n",
       "286  Acoustics     Aerospace Technology  0.074074\n",
       "429  Acoustics  Agricult & Food Science  0.074627\n",
       "572  Acoustics                  Allergy  0.192982"
      ]
     },
     "execution_count": 34,
     "metadata": {},
     "output_type": "execute_result"
    }
   ],
   "source": [
    "prox_all_df = load_data(prox_all)\n",
    "prox_all_df.head()"
   ]
  },
  {
   "cell_type": "code",
   "execution_count": 91,
   "metadata": {
    "collapsed": true,
    "execution": {
     "iopub.execute_input": "2020-12-25T03:29:02.317Z",
     "iopub.status.busy": "2020-12-25T03:29:02.310Z",
     "iopub.status.idle": "2020-12-25T03:29:02.329Z",
     "shell.execute_reply": "2020-12-25T03:29:02.333Z"
    },
    "jupyter": {
     "outputs_hidden": true,
     "source_hidden": false
    },
    "nteract": {
     "transient": {
      "deleting": false
     }
    }
   },
   "outputs": [
    {
     "data": {
      "text/html": [
       "<div>\n",
       "<style scoped>\n",
       "    .dataframe tbody tr th:only-of-type {\n",
       "        vertical-align: middle;\n",
       "    }\n",
       "\n",
       "    .dataframe tbody tr th {\n",
       "        vertical-align: top;\n",
       "    }\n",
       "\n",
       "    .dataframe thead th {\n",
       "        text-align: right;\n",
       "    }\n",
       "</style>\n",
       "<table border=\"1\" class=\"dataframe\">\n",
       "  <thead>\n",
       "    <tr style=\"text-align: right;\">\n",
       "      <th></th>\n",
       "      <th>source</th>\n",
       "      <th>target</th>\n",
       "      <th>weight</th>\n",
       "    </tr>\n",
       "  </thead>\n",
       "  <tbody>\n",
       "    <tr>\n",
       "      <th>0</th>\n",
       "      <td>Acoustics</td>\n",
       "      <td>Acoustics</td>\n",
       "      <td>1.000000</td>\n",
       "    </tr>\n",
       "    <tr>\n",
       "      <th>143</th>\n",
       "      <td>Acoustics</td>\n",
       "      <td>Addictive Diseases</td>\n",
       "      <td>0.333333</td>\n",
       "    </tr>\n",
       "    <tr>\n",
       "      <th>286</th>\n",
       "      <td>Acoustics</td>\n",
       "      <td>Aerospace Technology</td>\n",
       "      <td>0.277778</td>\n",
       "    </tr>\n",
       "    <tr>\n",
       "      <th>429</th>\n",
       "      <td>Acoustics</td>\n",
       "      <td>Agricult &amp; Food Science</td>\n",
       "      <td>0.114943</td>\n",
       "    </tr>\n",
       "    <tr>\n",
       "      <th>572</th>\n",
       "      <td>Acoustics</td>\n",
       "      <td>Allergy</td>\n",
       "      <td>0.285714</td>\n",
       "    </tr>\n",
       "  </tbody>\n",
       "</table>\n",
       "</div>"
      ],
      "text/plain": [
       "        source                   target    weight\n",
       "0    Acoustics                Acoustics  1.000000\n",
       "143  Acoustics       Addictive Diseases  0.333333\n",
       "286  Acoustics     Aerospace Technology  0.277778\n",
       "429  Acoustics  Agricult & Food Science  0.114943\n",
       "572  Acoustics                  Allergy  0.285714"
      ]
     },
     "execution_count": 91,
     "metadata": {},
     "output_type": "execute_result"
    }
   ],
   "source": [
    "df = load_data(pjoin(prox_dir, \"snapshot\", \"full\", \"prox_1973-1977.csv\"))\n",
    "df.head()"
   ]
  },
  {
   "cell_type": "code",
   "execution_count": 39,
   "metadata": {
    "collapsed": true,
    "execution": {
     "iopub.execute_input": "2020-12-23T21:50:43.323Z",
     "iopub.status.busy": "2020-12-23T21:50:43.319Z",
     "iopub.status.idle": "2020-12-23T21:50:43.333Z",
     "shell.execute_reply": "2020-12-23T21:50:43.338Z"
    },
    "jupyter": {
     "outputs_hidden": true,
     "source_hidden": false
    },
    "nteract": {
     "transient": {
      "deleting": false
     }
    }
   },
   "outputs": [
    {
     "data": {
      "text/html": [
       "<div>\n",
       "<style scoped>\n",
       "    .dataframe tbody tr th:only-of-type {\n",
       "        vertical-align: middle;\n",
       "    }\n",
       "\n",
       "    .dataframe tbody tr th {\n",
       "        vertical-align: top;\n",
       "    }\n",
       "\n",
       "    .dataframe thead th {\n",
       "        text-align: right;\n",
       "    }\n",
       "</style>\n",
       "<table border=\"1\" class=\"dataframe\">\n",
       "  <thead>\n",
       "    <tr style=\"text-align: right;\">\n",
       "      <th></th>\n",
       "      <th>source</th>\n",
       "      <th>target</th>\n",
       "      <th>weight_x</th>\n",
       "      <th>weight_y</th>\n",
       "    </tr>\n",
       "  </thead>\n",
       "  <tbody>\n",
       "    <tr>\n",
       "      <th>0</th>\n",
       "      <td>Acoustics</td>\n",
       "      <td>Acoustics</td>\n",
       "      <td>1.000000</td>\n",
       "      <td>1.000000</td>\n",
       "    </tr>\n",
       "    <tr>\n",
       "      <th>1</th>\n",
       "      <td>Acoustics</td>\n",
       "      <td>Addictive Diseases</td>\n",
       "      <td>0.227273</td>\n",
       "      <td>0.333333</td>\n",
       "    </tr>\n",
       "    <tr>\n",
       "      <th>2</th>\n",
       "      <td>Acoustics</td>\n",
       "      <td>Aerospace Technology</td>\n",
       "      <td>0.074074</td>\n",
       "      <td>0.277778</td>\n",
       "    </tr>\n",
       "    <tr>\n",
       "      <th>3</th>\n",
       "      <td>Acoustics</td>\n",
       "      <td>Agricult &amp; Food Science</td>\n",
       "      <td>0.074627</td>\n",
       "      <td>0.114943</td>\n",
       "    </tr>\n",
       "    <tr>\n",
       "      <th>4</th>\n",
       "      <td>Acoustics</td>\n",
       "      <td>Allergy</td>\n",
       "      <td>0.192982</td>\n",
       "      <td>0.285714</td>\n",
       "    </tr>\n",
       "  </tbody>\n",
       "</table>\n",
       "</div>"
      ],
      "text/plain": [
       "      source                   target  weight_x  weight_y\n",
       "0  Acoustics                Acoustics  1.000000  1.000000\n",
       "1  Acoustics       Addictive Diseases  0.227273  0.333333\n",
       "2  Acoustics     Aerospace Technology  0.074074  0.277778\n",
       "3  Acoustics  Agricult & Food Science  0.074627  0.114943\n",
       "4  Acoustics                  Allergy  0.192982  0.285714"
      ]
     },
     "execution_count": 39,
     "metadata": {},
     "output_type": "execute_result"
    }
   ],
   "source": [
    "meta_df = prox_all_df.merge(df, on=[\"source\", \"target\"], how=\"outer\").fillna(0)\n",
    "meta_df.head()"
   ]
  },
  {
   "cell_type": "code",
   "execution_count": 45,
   "metadata": {
    "collapsed": true,
    "execution": {
     "iopub.execute_input": "2020-12-23T21:52:43.791Z",
     "iopub.status.busy": "2020-12-23T21:52:43.785Z",
     "iopub.status.idle": "2020-12-23T21:52:43.801Z",
     "shell.execute_reply": "2020-12-23T21:52:43.807Z"
    },
    "jupyter": {
     "outputs_hidden": true,
     "source_hidden": false
    },
    "nteract": {
     "transient": {
      "deleting": false
     }
    }
   },
   "outputs": [
    {
     "data": {
      "text/plain": [
       "0.5725499067041662"
      ]
     },
     "execution_count": 45,
     "metadata": {},
     "output_type": "execute_result"
    }
   ],
   "source": [
    "np.corrcoef(meta_df[\"weight_x\"], meta_df[\"weight_y\"])[0,1]"
   ]
  }
 ],
 "metadata": {
  "kernel_info": {
   "name": "nsp"
  },
  "kernelspec": {
   "display_name": "Python 3",
   "language": "python",
   "name": "python3"

  },
  "language_info": {
   "codemirror_mode": {
    "name": "ipython",
    "version": 3
   },
   "file_extension": ".py",
   "mimetype": "text/x-python",
   "name": "python",
   "nbconvert_exporter": "python",
   "pygments_lexer": "ipython3",
   "version": "3.6.5"
  },
  "nteract": {
   "version": "0.27.0"
  }
 },
 "nbformat": 4,
 "nbformat_minor": 4
}
